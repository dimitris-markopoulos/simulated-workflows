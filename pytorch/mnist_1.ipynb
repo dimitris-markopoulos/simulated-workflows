{
 "cells": [
  {
   "cell_type": "code",
   "execution_count": 1,
   "metadata": {},
   "outputs": [],
   "source": [
    "import matplotlib.pyplot as plt\n",
    "\n",
    "import torch\n",
    "from torchvision import datasets\n",
    "from torchvision.transforms import v2"
   ]
  },
  {
   "cell_type": "code",
   "execution_count": 3,
   "metadata": {},
   "outputs": [
    {
     "name": "stderr",
     "output_type": "stream",
     "text": [
      "100%|██████████| 9.91M/9.91M [00:00<00:00, 21.7MB/s]\n",
      "100%|██████████| 28.9k/28.9k [00:00<00:00, 2.39MB/s]\n",
      "100%|██████████| 1.65M/1.65M [00:00<00:00, 10.6MB/s]\n",
      "100%|██████████| 4.54k/4.54k [00:00<00:00, 4.15MB/s]\n"
     ]
    },
    {
     "name": "stdout",
     "output_type": "stream",
     "text": [
      "There are 60000 observations - each represent image of 28x28.\n"
     ]
    }
   ],
   "source": [
    "scaling = v2.Compose([\n",
    "    v2.ToImage(),\n",
    "    v2.ToDtype(dtype=torch.float32, scale=True)\n",
    "]\n",
    ")\n",
    "train_data = datasets.MNIST('./data', train=True, download=True,\n",
    "                            transform=scaling)\n",
    "\n",
    "data = train_data.data\n",
    "labels = train_data.targets\n",
    "print(f'There are {len(data)} observations - each represent image of 28x28.')"
   ]
  },
  {
   "cell_type": "code",
   "execution_count": null,
   "metadata": {},
   "outputs": [
    {
     "data": {
      "image/png": "[encoded data removed]",
      "text/plain": [
       "<Figure size 800x6400 with 4 Axes>"
      ]
     },
     "metadata": {},
     "output_type": "display_data"
    }
   ],
   "source": [
    "#========================================\n",
    "# PART A\n",
    "#========================================\n",
    "\n",
    "single_plot = lambda x: plt.imshow(x, cmap=\"gray\")\n",
    "# single_plot(data[0])\n",
    "\n",
    "def plot_images(k : int):\n",
    "    fig, ax = plt.subplots(1,k,figsize=(8,8*8))\n",
    "    for i in range(k):\n",
    "        ax[i].imshow(data[i],cmap=\"gray\")\n",
    "        ax[i].set_title(f'TRUE_LABEL = {labels[i]}')\n",
    "        ax[i].axis(\"off\")\n",
    "\n",
    "plot_images(4)"
   ]
  },
  {
   "cell_type": "code",
   "execution_count": null,
   "metadata": {},
   "outputs": [],
   "source": [
    "#========================================\n",
    "# PART B\n",
    "#========================================\n",
    "\n",
    "filtered_data, filtered_labels = data[:10_000], labels[:10_000]\n",
    "flattened_data = data.flatten(start_dim=1) # flatten to vector\n",
    "\n",
    "def normalize(arr : torch.tensor):\n",
    "    min_, max_ = arr.min(), arr.max()\n",
    "    diff = max_ - min_\n",
    "    if diff == 0:\n",
    "        return torch.zeros_like(arr)\n",
    "    return (arr - min_) / diff\n",
    "\n",
    "normalized_data = torch.stack([normalize(x) for x in flattened_data])"
   ]
  },
  {
   "cell_type": "code",
   "execution_count": null,
   "metadata": {},
   "outputs": [],
   "source": [
    "#========================================\n",
    "# PART C\n",
    "#========================================\n",
    "\n"
   ]
  }
 ],
 "metadata": {
  "kernelspec": {
   "display_name": "base",
   "language": "python",
   "name": "python3"
  },
  "language_info": {
   "codemirror_mode": {
    "name": "ipython",
    "version": 3
   },
   "file_extension": ".py",
   "mimetype": "text/x-python",
   "name": "python",
   "nbconvert_exporter": "python",
   "pygments_lexer": "ipython3",
   "version": "3.12.2"
  }
 },
 "nbformat": 4,
 "nbformat_minor": 2
}
