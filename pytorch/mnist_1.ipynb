{
 "cells": [
  {
   "cell_type": "code",
   "execution_count": 9,
   "metadata": {},
   "outputs": [],
   "source": [
    "import matplotlib.pyplot as plt\n",
    "\n",
    "import torch\n",
    "from torchvision import datasets\n",
    "from torchvision.transforms import v2\n",
    "import torch.nn.functional as F"
   ]
  },
  {
   "cell_type": "code",
   "execution_count": 2,
   "metadata": {},
   "outputs": [
    {
     "name": "stdout",
     "output_type": "stream",
     "text": [
      "There are 60000 observations - each represent image of 28x28.\n"
     ]
    }
   ],
   "source": [
    "scaling = v2.Compose([\n",
    "    v2.ToImage(),\n",
    "    v2.ToDtype(dtype=torch.float32, scale=True)\n",
    "]\n",
    ")\n",
    "train_data = datasets.MNIST('./data', train=True, download=True,\n",
    "                            transform=scaling)\n",
    "\n",
    "data = train_data.data\n",
    "labels = train_data.targets\n",
    "print(f'There are {len(data)} observations - each represent image of 28x28.')"
   ]
  },
  {
   "cell_type": "code",
   "execution_count": 3,
   "metadata": {},
   "outputs": [
    {
     "data": {
      "image/png": "[encoded data removed]",
      "text/plain": [
       "<Figure size 800x6400 with 4 Axes>"
      ]
     },
     "metadata": {},
     "output_type": "display_data"
    }
   ],
   "source": [
    "#========================================\n",
    "# PART A\n",
    "#========================================\n",
    "\n",
    "single_plot = lambda x: plt.imshow(x, cmap=\"gray\")\n",
    "# single_plot(data[0])\n",
    "\n",
    "def plot_images(k : int):\n",
    "    fig, ax = plt.subplots(1,k,figsize=(8,8*8))\n",
    "    for i in range(k):\n",
    "        ax[i].imshow(data[i],cmap=\"gray\")\n",
    "        ax[i].set_title(f'TRUE_LABEL = {labels[i]}')\n",
    "        ax[i].axis(\"off\")\n",
    "\n",
    "plot_images(4)"
   ]
  },
  {
   "cell_type": "code",
   "execution_count": 4,
   "metadata": {},
   "outputs": [],
   "source": [
    "#========================================\n",
    "# PART B\n",
    "#========================================\n",
    "\n",
    "filtered_data, filtered_labels = data[:10_000], labels[:10_000]\n",
    "flattened_data = filtered_data.flatten(start_dim=1) # flatten to vector\n",
    "\n",
    "def normalize(arr : torch.tensor):\n",
    "    min_, max_ = arr.min(), arr.max()\n",
    "    diff = max_ - min_\n",
    "    if diff == 0:\n",
    "        return torch.zeros_like(arr)\n",
    "    return (arr - min_) / diff\n",
    "\n",
    "normalized_data = torch.stack([normalize(x) for x in flattened_data])"
   ]
  },
  {
   "cell_type": "code",
   "execution_count": null,
   "metadata": {},
   "outputs": [],
   "source": [
    "#========================================\n",
    "# PART C\n",
    "#========================================\n",
    "\n",
    "X = normalized_data # [10000, 784]\n",
    "y = filtered_labels # [10000]\n",
    "\n",
    "N = 4                 # batch size\n",
    "D_in = 784            # input dim\n",
    "H = 128               # hidden dim\n",
    "D_out = 10            # number of classes\n",
    "\n",
    "W1 = torch.full((D_in, H), 0.01, requires_grad=True)  # [784, 128]\n",
    "b1 = torch.full((H,),      0.01, requires_grad=True)  # [128]\n",
    "\n",
    "W2 = torch.full((H, D_out), 0.01, requires_grad=True) # [128, 10]\n",
    "b2 = torch.full((D_out,),    0.01, requires_grad=True) # [10]"
   ]
  },
  {
   "cell_type": "code",
   "execution_count": 17,
   "metadata": {},
   "outputs": [
    {
     "name": "stdout",
     "output_type": "stream",
     "text": [
      "tensor([[1.4044, 1.4044, 1.4044,  ..., 1.4044, 1.4044, 1.4044],\n",
      "        [1.5836, 1.5836, 1.5836,  ..., 1.5836, 1.5836, 1.5836],\n",
      "        [0.9988, 0.9988, 0.9988,  ..., 0.9988, 0.9988, 0.9988],\n",
      "        ...,\n",
      "        [1.4374, 1.4374, 1.4374,  ..., 1.4374, 1.4374, 1.4374],\n",
      "        [0.9893, 0.9893, 0.9893,  ..., 0.9893, 0.9893, 0.9893],\n",
      "        [1.0575, 1.0575, 1.0575,  ..., 1.0575, 1.0575, 1.0575]],\n",
      "       grad_fn=<AddBackward0>)\n"
     ]
    }
   ],
   "source": [
    "#===========================================\n",
    "# PART D\n",
    "#===========================================\n",
    "\n",
    "def predict(X, W1, b1, W2, b2):\n",
    "    h1 = F.relu(X @ W1 + b1)   # hidden layer\n",
    "    Y  = h1 @ W2 + b2          # output layer\n",
    "    return Y\n",
    "\n",
    "Y = predict(X, W1, b1, W2, b2)\n",
    "print(Y)"
   ]
  },
  {
   "cell_type": "code",
   "execution_count": 27,
   "metadata": {},
   "outputs": [],
   "source": [
    "def train_network(X, y, init_type=\"fixed\", steps=1000, lr=0.001, seed=0):\n",
    "\n",
    "    N, D_in = X.shape\n",
    "    H, D_out = 128, 10\n",
    "    torch.manual_seed(seed)\n",
    "\n",
    "    # --- Initialize weights ---\n",
    "    if init_type == \"fixed\":\n",
    "        W1 = torch.full((D_in, H), 0.01, requires_grad=True)\n",
    "        b1 = torch.full((H,), 0.01, requires_grad=True)\n",
    "        W2 = torch.full((H, D_out), 0.01, requires_grad=True)\n",
    "        b2 = torch.full((D_out,), 0.01, requires_grad=True)\n",
    "    elif init_type in [\"random\", \"adam\"]:\n",
    "        W1 = (torch.randn(D_in, H) * 0.1).requires_grad_()\n",
    "        b1 = torch.zeros(H, requires_grad=True)\n",
    "        W2 = (torch.randn(H, D_out) * 0.1).requires_grad_()\n",
    "        b2 = torch.zeros(D_out, requires_grad=True)\n",
    "    else:\n",
    "        raise ValueError(\"init_type must be 'fixed', 'random', or 'adam'\")\n",
    "\n",
    "    loss_fn = torch.nn.CrossEntropyLoss()\n",
    "    losses = []\n",
    "\n",
    "    # --- Choose optimizer ---\n",
    "    if init_type == \"adam\":\n",
    "        optimizer = torch.optim.Adam([W1, b1, W2, b2], lr=lr)\n",
    "\n",
    "    # --- Training loop ---\n",
    "    for step in range(1, steps+1):\n",
    "        logits = predict(X, W1, b1, W2, b2)\n",
    "        loss = loss_fn(logits, y)\n",
    "        losses.append(loss.item())\n",
    "\n",
    "        if init_type == \"adam\":\n",
    "            optimizer.zero_grad()\n",
    "            loss.backward()\n",
    "            optimizer.step()\n",
    "        else:  # manual GD\n",
    "            loss.backward()\n",
    "            with torch.no_grad():\n",
    "                W1 -= lr * W1.grad\n",
    "                b1 -= lr * b1.grad\n",
    "                W2 -= lr * W2.grad\n",
    "                b2 -= lr * b2.grad\n",
    "            W1.grad.zero_()\n",
    "            b1.grad.zero_()\n",
    "            W2.grad.zero_()\n",
    "            b2.grad.zero_()\n",
    "\n",
    "        if step % 100 == 0:\n",
    "            print(f\"[{init_type}] Step {step}: Loss = {loss.item():.4f}\")\n",
    "\n",
    "    return losses"
   ]
  },
  {
   "cell_type": "code",
   "execution_count": 28,
   "metadata": {},
   "outputs": [
    {
     "name": "stdout",
     "output_type": "stream",
     "text": [
      "[fixed] Step 100: Loss = 2.2891\n",
      "[fixed] Step 200: Loss = 2.2881\n",
      "[fixed] Step 300: Loss = 2.2876\n",
      "[fixed] Step 400: Loss = 2.2873\n",
      "[fixed] Step 500: Loss = 2.2869\n",
      "[fixed] Step 600: Loss = 2.2865\n",
      "[fixed] Step 700: Loss = 2.2862\n",
      "[fixed] Step 800: Loss = 2.2858\n",
      "[fixed] Step 900: Loss = 2.2854\n",
      "[fixed] Step 1000: Loss = 2.2850\n",
      "[random] Step 100: Loss = 2.4072\n",
      "[random] Step 200: Loss = 2.2786\n",
      "[random] Step 300: Loss = 2.1761\n",
      "[random] Step 400: Loss = 2.0865\n",
      "[random] Step 500: Loss = 2.0044\n",
      "[random] Step 600: Loss = 1.9274\n",
      "[random] Step 700: Loss = 1.8545\n",
      "[random] Step 800: Loss = 1.7850\n",
      "[random] Step 900: Loss = 1.7187\n",
      "[random] Step 1000: Loss = 1.6554\n",
      "[adam] Step 100: Loss = 0.2386\n",
      "[adam] Step 200: Loss = 0.1251\n",
      "[adam] Step 300: Loss = 0.0697\n",
      "[adam] Step 400: Loss = 0.0402\n",
      "[adam] Step 500: Loss = 0.0241\n",
      "[adam] Step 600: Loss = 0.0152\n",
      "[adam] Step 700: Loss = 0.0102\n",
      "[adam] Step 800: Loss = 0.0072\n",
      "[adam] Step 900: Loss = 0.0053\n",
      "[adam] Step 1000: Loss = 0.0041\n"
     ]
    },
    {
     "data": {
      "image/png": "[encoded data removed]",
      "text/plain": [
       "<Figure size 640x480 with 1 Axes>"
      ]
     },
     "metadata": {},
     "output_type": "display_data"
    }
   ],
   "source": [
    "losses_fixed  = train_network(X, y, init_type=\"fixed\")\n",
    "losses_random = train_network(X, y, init_type=\"random\")\n",
    "losses_adam   = train_network(X, y, init_type=\"adam\")\n",
    "\n",
    "plt.plot(losses_fixed,  label=\"GD (init=0.01)\")\n",
    "plt.plot(losses_random, label=\"GD (init=N(0,0.1))\")\n",
    "plt.plot(losses_adam,   label=\"Adam (init=N(0,0.1))\")\n",
    "plt.xlabel(\"Training step\")\n",
    "plt.ylabel(\"Loss\")\n",
    "plt.legend()\n",
    "plt.title(\"Convergence comparison\")\n",
    "plt.show()"
   ]
  },
  {
   "cell_type": "markdown",
   "metadata": {},
   "source": [
    "Adam > random initialization > constant intialization."
   ]
  }
 ],
 "metadata": {
  "kernelspec": {
   "display_name": "base",
   "language": "python",
   "name": "python3"
  },
  "language_info": {
   "codemirror_mode": {
    "name": "ipython",
    "version": 3
   },
   "file_extension": ".py",
   "mimetype": "text/x-python",
   "name": "python",
   "nbconvert_exporter": "python",
   "pygments_lexer": "ipython3",
   "version": "3.12.2"
  }
 },
 "nbformat": 4,
 "nbformat_minor": 2
}
